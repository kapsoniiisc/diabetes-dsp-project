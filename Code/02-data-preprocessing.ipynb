{
 "cells": [
  {
   "cell_type": "code",
   "execution_count": 8,
   "metadata": {},
   "outputs": [],
   "source": [
    "import import_ipynb"
   ]
  },
  {
   "cell_type": "code",
   "execution_count": 12,
   "metadata": {},
   "outputs": [
    {
     "name": "stdout",
     "output_type": "stream",
     "text": [
      " CDC Data:\n",
      "\t Rows :  22\n",
      "\t Columns :  253680\n",
      "\n",
      "\n",
      " PIMA Data:\n",
      "\t Rows :  9\n",
      "\t Columns :  768\n"
     ]
    }
   ],
   "source": [
    "%run 01_data_collection.ipynb"
   ]
  },
  {
   "cell_type": "markdown",
   "metadata": {},
   "source": [
    "<a id=\"2\"></a>\n",
    "# <div style=\"padding:20px;color:white;margin:0;color:darkgreen;font-size:30px;font-family:Georgia;text-align:left;display:fill;border-radius:5px;background-color:#f2ffe6;overflow:hidden\">2. | Data PreProcessing</div>"
   ]
  },
  {
   "cell_type": "markdown",
   "metadata": {},
   "source": [
    "<a id=\"4.1\"></a>\n",
    "# <div style=\"padding:20px;color:white;margin:0;color:darkcyan;font-size:20px;font-family:Georgia;text-align:left;display:fill;border-radius:5px;background-color:#E0FFFF;overflow:hidden\">4.1 | CDC Data PreProcessing</div>"
   ]
  },
  {
   "cell_type": "markdown",
   "metadata": {},
   "source": [
    "### Display Content"
   ]
  },
  {
   "cell_type": "code",
   "execution_count": 13,
   "metadata": {},
   "outputs": [
    {
     "data": {
      "text/html": [
       "<style type=\"text/css\">\n",
       "#T_74ee5 th {\n",
       "  color: white;\n",
       "  background-color: #333333;\n",
       "}\n",
       "#T_74ee5_row0_col0, #T_74ee5_row0_col1, #T_74ee5_row0_col2, #T_74ee5_row0_col3, #T_74ee5_row0_col4, #T_74ee5_row0_col5, #T_74ee5_row0_col6, #T_74ee5_row0_col7, #T_74ee5_row0_col8, #T_74ee5_row0_col9, #T_74ee5_row0_col10, #T_74ee5_row0_col11, #T_74ee5_row0_col12, #T_74ee5_row0_col13, #T_74ee5_row0_col14, #T_74ee5_row0_col15, #T_74ee5_row0_col16, #T_74ee5_row0_col17, #T_74ee5_row0_col18, #T_74ee5_row0_col19, #T_74ee5_row0_col20, #T_74ee5_row0_col21, #T_74ee5_row1_col0, #T_74ee5_row1_col1, #T_74ee5_row1_col2, #T_74ee5_row1_col3, #T_74ee5_row1_col4, #T_74ee5_row1_col5, #T_74ee5_row1_col6, #T_74ee5_row1_col7, #T_74ee5_row1_col8, #T_74ee5_row1_col9, #T_74ee5_row1_col10, #T_74ee5_row1_col11, #T_74ee5_row1_col12, #T_74ee5_row1_col13, #T_74ee5_row1_col14, #T_74ee5_row1_col15, #T_74ee5_row1_col16, #T_74ee5_row1_col17, #T_74ee5_row1_col18, #T_74ee5_row1_col19, #T_74ee5_row1_col20, #T_74ee5_row1_col21, #T_74ee5_row2_col0, #T_74ee5_row2_col1, #T_74ee5_row2_col2, #T_74ee5_row2_col3, #T_74ee5_row2_col4, #T_74ee5_row2_col5, #T_74ee5_row2_col6, #T_74ee5_row2_col7, #T_74ee5_row2_col8, #T_74ee5_row2_col9, #T_74ee5_row2_col10, #T_74ee5_row2_col11, #T_74ee5_row2_col12, #T_74ee5_row2_col13, #T_74ee5_row2_col14, #T_74ee5_row2_col15, #T_74ee5_row2_col16, #T_74ee5_row2_col17, #T_74ee5_row2_col18, #T_74ee5_row2_col19, #T_74ee5_row2_col20, #T_74ee5_row2_col21, #T_74ee5_row3_col0, #T_74ee5_row3_col1, #T_74ee5_row3_col2, #T_74ee5_row3_col3, #T_74ee5_row3_col4, #T_74ee5_row3_col5, #T_74ee5_row3_col6, #T_74ee5_row3_col7, #T_74ee5_row3_col8, #T_74ee5_row3_col9, #T_74ee5_row3_col10, #T_74ee5_row3_col11, #T_74ee5_row3_col12, #T_74ee5_row3_col13, #T_74ee5_row3_col14, #T_74ee5_row3_col15, #T_74ee5_row3_col16, #T_74ee5_row3_col17, #T_74ee5_row3_col18, #T_74ee5_row3_col19, #T_74ee5_row3_col20, #T_74ee5_row3_col21, #T_74ee5_row4_col0, #T_74ee5_row4_col1, #T_74ee5_row4_col2, #T_74ee5_row4_col3, #T_74ee5_row4_col4, #T_74ee5_row4_col5, #T_74ee5_row4_col6, #T_74ee5_row4_col7, #T_74ee5_row4_col8, #T_74ee5_row4_col9, #T_74ee5_row4_col10, #T_74ee5_row4_col11, #T_74ee5_row4_col12, #T_74ee5_row4_col13, #T_74ee5_row4_col14, #T_74ee5_row4_col15, #T_74ee5_row4_col16, #T_74ee5_row4_col17, #T_74ee5_row4_col18, #T_74ee5_row4_col19, #T_74ee5_row4_col20, #T_74ee5_row4_col21 {\n",
       "  background-color: #254E58;\n",
       "  color: #e9c46a;\n",
       "  border: 1.5px solid black;\n",
       "}\n",
       "</style>\n",
       "<table id=\"T_74ee5\">\n",
       "  <thead>\n",
       "    <tr>\n",
       "      <th class=\"blank level0\" >&nbsp;</th>\n",
       "      <th id=\"T_74ee5_level0_col0\" class=\"col_heading level0 col0\" >Diabetes_binary</th>\n",
       "      <th id=\"T_74ee5_level0_col1\" class=\"col_heading level0 col1\" >HighBP</th>\n",
       "      <th id=\"T_74ee5_level0_col2\" class=\"col_heading level0 col2\" >HighChol</th>\n",
       "      <th id=\"T_74ee5_level0_col3\" class=\"col_heading level0 col3\" >CholCheck</th>\n",
       "      <th id=\"T_74ee5_level0_col4\" class=\"col_heading level0 col4\" >BMI</th>\n",
       "      <th id=\"T_74ee5_level0_col5\" class=\"col_heading level0 col5\" >Smoker</th>\n",
       "      <th id=\"T_74ee5_level0_col6\" class=\"col_heading level0 col6\" >Stroke</th>\n",
       "      <th id=\"T_74ee5_level0_col7\" class=\"col_heading level0 col7\" >HeartDiseaseorAttack</th>\n",
       "      <th id=\"T_74ee5_level0_col8\" class=\"col_heading level0 col8\" >PhysActivity</th>\n",
       "      <th id=\"T_74ee5_level0_col9\" class=\"col_heading level0 col9\" >Fruits</th>\n",
       "      <th id=\"T_74ee5_level0_col10\" class=\"col_heading level0 col10\" >Veggies</th>\n",
       "      <th id=\"T_74ee5_level0_col11\" class=\"col_heading level0 col11\" >HvyAlcoholConsump</th>\n",
       "      <th id=\"T_74ee5_level0_col12\" class=\"col_heading level0 col12\" >AnyHealthcare</th>\n",
       "      <th id=\"T_74ee5_level0_col13\" class=\"col_heading level0 col13\" >NoDocbcCost</th>\n",
       "      <th id=\"T_74ee5_level0_col14\" class=\"col_heading level0 col14\" >GenHlth</th>\n",
       "      <th id=\"T_74ee5_level0_col15\" class=\"col_heading level0 col15\" >MentHlth</th>\n",
       "      <th id=\"T_74ee5_level0_col16\" class=\"col_heading level0 col16\" >PhysHlth</th>\n",
       "      <th id=\"T_74ee5_level0_col17\" class=\"col_heading level0 col17\" >DiffWalk</th>\n",
       "      <th id=\"T_74ee5_level0_col18\" class=\"col_heading level0 col18\" >Sex</th>\n",
       "      <th id=\"T_74ee5_level0_col19\" class=\"col_heading level0 col19\" >Age</th>\n",
       "      <th id=\"T_74ee5_level0_col20\" class=\"col_heading level0 col20\" >Education</th>\n",
       "      <th id=\"T_74ee5_level0_col21\" class=\"col_heading level0 col21\" >Income</th>\n",
       "    </tr>\n",
       "  </thead>\n",
       "  <tbody>\n",
       "    <tr>\n",
       "      <th id=\"T_74ee5_level0_row0\" class=\"row_heading level0 row0\" >0</th>\n",
       "      <td id=\"T_74ee5_row0_col0\" class=\"data row0 col0\" >0.000000</td>\n",
       "      <td id=\"T_74ee5_row0_col1\" class=\"data row0 col1\" >1.000000</td>\n",
       "      <td id=\"T_74ee5_row0_col2\" class=\"data row0 col2\" >1.000000</td>\n",
       "      <td id=\"T_74ee5_row0_col3\" class=\"data row0 col3\" >1.000000</td>\n",
       "      <td id=\"T_74ee5_row0_col4\" class=\"data row0 col4\" >40.000000</td>\n",
       "      <td id=\"T_74ee5_row0_col5\" class=\"data row0 col5\" >1.000000</td>\n",
       "      <td id=\"T_74ee5_row0_col6\" class=\"data row0 col6\" >0.000000</td>\n",
       "      <td id=\"T_74ee5_row0_col7\" class=\"data row0 col7\" >0.000000</td>\n",
       "      <td id=\"T_74ee5_row0_col8\" class=\"data row0 col8\" >0.000000</td>\n",
       "      <td id=\"T_74ee5_row0_col9\" class=\"data row0 col9\" >0.000000</td>\n",
       "      <td id=\"T_74ee5_row0_col10\" class=\"data row0 col10\" >1.000000</td>\n",
       "      <td id=\"T_74ee5_row0_col11\" class=\"data row0 col11\" >0.000000</td>\n",
       "      <td id=\"T_74ee5_row0_col12\" class=\"data row0 col12\" >1.000000</td>\n",
       "      <td id=\"T_74ee5_row0_col13\" class=\"data row0 col13\" >0.000000</td>\n",
       "      <td id=\"T_74ee5_row0_col14\" class=\"data row0 col14\" >5.000000</td>\n",
       "      <td id=\"T_74ee5_row0_col15\" class=\"data row0 col15\" >18.000000</td>\n",
       "      <td id=\"T_74ee5_row0_col16\" class=\"data row0 col16\" >15.000000</td>\n",
       "      <td id=\"T_74ee5_row0_col17\" class=\"data row0 col17\" >1.000000</td>\n",
       "      <td id=\"T_74ee5_row0_col18\" class=\"data row0 col18\" >0.000000</td>\n",
       "      <td id=\"T_74ee5_row0_col19\" class=\"data row0 col19\" >9.000000</td>\n",
       "      <td id=\"T_74ee5_row0_col20\" class=\"data row0 col20\" >4.000000</td>\n",
       "      <td id=\"T_74ee5_row0_col21\" class=\"data row0 col21\" >3.000000</td>\n",
       "    </tr>\n",
       "    <tr>\n",
       "      <th id=\"T_74ee5_level0_row1\" class=\"row_heading level0 row1\" >1</th>\n",
       "      <td id=\"T_74ee5_row1_col0\" class=\"data row1 col0\" >0.000000</td>\n",
       "      <td id=\"T_74ee5_row1_col1\" class=\"data row1 col1\" >0.000000</td>\n",
       "      <td id=\"T_74ee5_row1_col2\" class=\"data row1 col2\" >0.000000</td>\n",
       "      <td id=\"T_74ee5_row1_col3\" class=\"data row1 col3\" >0.000000</td>\n",
       "      <td id=\"T_74ee5_row1_col4\" class=\"data row1 col4\" >25.000000</td>\n",
       "      <td id=\"T_74ee5_row1_col5\" class=\"data row1 col5\" >1.000000</td>\n",
       "      <td id=\"T_74ee5_row1_col6\" class=\"data row1 col6\" >0.000000</td>\n",
       "      <td id=\"T_74ee5_row1_col7\" class=\"data row1 col7\" >0.000000</td>\n",
       "      <td id=\"T_74ee5_row1_col8\" class=\"data row1 col8\" >1.000000</td>\n",
       "      <td id=\"T_74ee5_row1_col9\" class=\"data row1 col9\" >0.000000</td>\n",
       "      <td id=\"T_74ee5_row1_col10\" class=\"data row1 col10\" >0.000000</td>\n",
       "      <td id=\"T_74ee5_row1_col11\" class=\"data row1 col11\" >0.000000</td>\n",
       "      <td id=\"T_74ee5_row1_col12\" class=\"data row1 col12\" >0.000000</td>\n",
       "      <td id=\"T_74ee5_row1_col13\" class=\"data row1 col13\" >1.000000</td>\n",
       "      <td id=\"T_74ee5_row1_col14\" class=\"data row1 col14\" >3.000000</td>\n",
       "      <td id=\"T_74ee5_row1_col15\" class=\"data row1 col15\" >0.000000</td>\n",
       "      <td id=\"T_74ee5_row1_col16\" class=\"data row1 col16\" >0.000000</td>\n",
       "      <td id=\"T_74ee5_row1_col17\" class=\"data row1 col17\" >0.000000</td>\n",
       "      <td id=\"T_74ee5_row1_col18\" class=\"data row1 col18\" >0.000000</td>\n",
       "      <td id=\"T_74ee5_row1_col19\" class=\"data row1 col19\" >7.000000</td>\n",
       "      <td id=\"T_74ee5_row1_col20\" class=\"data row1 col20\" >6.000000</td>\n",
       "      <td id=\"T_74ee5_row1_col21\" class=\"data row1 col21\" >1.000000</td>\n",
       "    </tr>\n",
       "    <tr>\n",
       "      <th id=\"T_74ee5_level0_row2\" class=\"row_heading level0 row2\" >2</th>\n",
       "      <td id=\"T_74ee5_row2_col0\" class=\"data row2 col0\" >0.000000</td>\n",
       "      <td id=\"T_74ee5_row2_col1\" class=\"data row2 col1\" >1.000000</td>\n",
       "      <td id=\"T_74ee5_row2_col2\" class=\"data row2 col2\" >1.000000</td>\n",
       "      <td id=\"T_74ee5_row2_col3\" class=\"data row2 col3\" >1.000000</td>\n",
       "      <td id=\"T_74ee5_row2_col4\" class=\"data row2 col4\" >28.000000</td>\n",
       "      <td id=\"T_74ee5_row2_col5\" class=\"data row2 col5\" >0.000000</td>\n",
       "      <td id=\"T_74ee5_row2_col6\" class=\"data row2 col6\" >0.000000</td>\n",
       "      <td id=\"T_74ee5_row2_col7\" class=\"data row2 col7\" >0.000000</td>\n",
       "      <td id=\"T_74ee5_row2_col8\" class=\"data row2 col8\" >0.000000</td>\n",
       "      <td id=\"T_74ee5_row2_col9\" class=\"data row2 col9\" >1.000000</td>\n",
       "      <td id=\"T_74ee5_row2_col10\" class=\"data row2 col10\" >0.000000</td>\n",
       "      <td id=\"T_74ee5_row2_col11\" class=\"data row2 col11\" >0.000000</td>\n",
       "      <td id=\"T_74ee5_row2_col12\" class=\"data row2 col12\" >1.000000</td>\n",
       "      <td id=\"T_74ee5_row2_col13\" class=\"data row2 col13\" >1.000000</td>\n",
       "      <td id=\"T_74ee5_row2_col14\" class=\"data row2 col14\" >5.000000</td>\n",
       "      <td id=\"T_74ee5_row2_col15\" class=\"data row2 col15\" >30.000000</td>\n",
       "      <td id=\"T_74ee5_row2_col16\" class=\"data row2 col16\" >30.000000</td>\n",
       "      <td id=\"T_74ee5_row2_col17\" class=\"data row2 col17\" >1.000000</td>\n",
       "      <td id=\"T_74ee5_row2_col18\" class=\"data row2 col18\" >0.000000</td>\n",
       "      <td id=\"T_74ee5_row2_col19\" class=\"data row2 col19\" >9.000000</td>\n",
       "      <td id=\"T_74ee5_row2_col20\" class=\"data row2 col20\" >4.000000</td>\n",
       "      <td id=\"T_74ee5_row2_col21\" class=\"data row2 col21\" >8.000000</td>\n",
       "    </tr>\n",
       "    <tr>\n",
       "      <th id=\"T_74ee5_level0_row3\" class=\"row_heading level0 row3\" >3</th>\n",
       "      <td id=\"T_74ee5_row3_col0\" class=\"data row3 col0\" >0.000000</td>\n",
       "      <td id=\"T_74ee5_row3_col1\" class=\"data row3 col1\" >1.000000</td>\n",
       "      <td id=\"T_74ee5_row3_col2\" class=\"data row3 col2\" >0.000000</td>\n",
       "      <td id=\"T_74ee5_row3_col3\" class=\"data row3 col3\" >1.000000</td>\n",
       "      <td id=\"T_74ee5_row3_col4\" class=\"data row3 col4\" >27.000000</td>\n",
       "      <td id=\"T_74ee5_row3_col5\" class=\"data row3 col5\" >0.000000</td>\n",
       "      <td id=\"T_74ee5_row3_col6\" class=\"data row3 col6\" >0.000000</td>\n",
       "      <td id=\"T_74ee5_row3_col7\" class=\"data row3 col7\" >0.000000</td>\n",
       "      <td id=\"T_74ee5_row3_col8\" class=\"data row3 col8\" >1.000000</td>\n",
       "      <td id=\"T_74ee5_row3_col9\" class=\"data row3 col9\" >1.000000</td>\n",
       "      <td id=\"T_74ee5_row3_col10\" class=\"data row3 col10\" >1.000000</td>\n",
       "      <td id=\"T_74ee5_row3_col11\" class=\"data row3 col11\" >0.000000</td>\n",
       "      <td id=\"T_74ee5_row3_col12\" class=\"data row3 col12\" >1.000000</td>\n",
       "      <td id=\"T_74ee5_row3_col13\" class=\"data row3 col13\" >0.000000</td>\n",
       "      <td id=\"T_74ee5_row3_col14\" class=\"data row3 col14\" >2.000000</td>\n",
       "      <td id=\"T_74ee5_row3_col15\" class=\"data row3 col15\" >0.000000</td>\n",
       "      <td id=\"T_74ee5_row3_col16\" class=\"data row3 col16\" >0.000000</td>\n",
       "      <td id=\"T_74ee5_row3_col17\" class=\"data row3 col17\" >0.000000</td>\n",
       "      <td id=\"T_74ee5_row3_col18\" class=\"data row3 col18\" >0.000000</td>\n",
       "      <td id=\"T_74ee5_row3_col19\" class=\"data row3 col19\" >11.000000</td>\n",
       "      <td id=\"T_74ee5_row3_col20\" class=\"data row3 col20\" >3.000000</td>\n",
       "      <td id=\"T_74ee5_row3_col21\" class=\"data row3 col21\" >6.000000</td>\n",
       "    </tr>\n",
       "    <tr>\n",
       "      <th id=\"T_74ee5_level0_row4\" class=\"row_heading level0 row4\" >4</th>\n",
       "      <td id=\"T_74ee5_row4_col0\" class=\"data row4 col0\" >0.000000</td>\n",
       "      <td id=\"T_74ee5_row4_col1\" class=\"data row4 col1\" >1.000000</td>\n",
       "      <td id=\"T_74ee5_row4_col2\" class=\"data row4 col2\" >1.000000</td>\n",
       "      <td id=\"T_74ee5_row4_col3\" class=\"data row4 col3\" >1.000000</td>\n",
       "      <td id=\"T_74ee5_row4_col4\" class=\"data row4 col4\" >24.000000</td>\n",
       "      <td id=\"T_74ee5_row4_col5\" class=\"data row4 col5\" >0.000000</td>\n",
       "      <td id=\"T_74ee5_row4_col6\" class=\"data row4 col6\" >0.000000</td>\n",
       "      <td id=\"T_74ee5_row4_col7\" class=\"data row4 col7\" >0.000000</td>\n",
       "      <td id=\"T_74ee5_row4_col8\" class=\"data row4 col8\" >1.000000</td>\n",
       "      <td id=\"T_74ee5_row4_col9\" class=\"data row4 col9\" >1.000000</td>\n",
       "      <td id=\"T_74ee5_row4_col10\" class=\"data row4 col10\" >1.000000</td>\n",
       "      <td id=\"T_74ee5_row4_col11\" class=\"data row4 col11\" >0.000000</td>\n",
       "      <td id=\"T_74ee5_row4_col12\" class=\"data row4 col12\" >1.000000</td>\n",
       "      <td id=\"T_74ee5_row4_col13\" class=\"data row4 col13\" >0.000000</td>\n",
       "      <td id=\"T_74ee5_row4_col14\" class=\"data row4 col14\" >2.000000</td>\n",
       "      <td id=\"T_74ee5_row4_col15\" class=\"data row4 col15\" >3.000000</td>\n",
       "      <td id=\"T_74ee5_row4_col16\" class=\"data row4 col16\" >0.000000</td>\n",
       "      <td id=\"T_74ee5_row4_col17\" class=\"data row4 col17\" >0.000000</td>\n",
       "      <td id=\"T_74ee5_row4_col18\" class=\"data row4 col18\" >0.000000</td>\n",
       "      <td id=\"T_74ee5_row4_col19\" class=\"data row4 col19\" >11.000000</td>\n",
       "      <td id=\"T_74ee5_row4_col20\" class=\"data row4 col20\" >5.000000</td>\n",
       "      <td id=\"T_74ee5_row4_col21\" class=\"data row4 col21\" >4.000000</td>\n",
       "    </tr>\n",
       "  </tbody>\n",
       "</table>\n"
      ],
      "text/plain": [
       "<pandas.io.formats.style.Styler at 0x16caec280>"
      ]
     },
     "execution_count": 13,
     "metadata": {},
     "output_type": "execute_result"
    }
   ],
   "source": [
    "styled_cdc_data = cdc_data.head(5).style\n",
    "\n",
    "# Set background color, text color, and border for the entire DataFrame\n",
    "styled_cdc_data.set_properties(**{\"background-color\": \"#254E58\", \"color\": \"#e9c46a\", \"border\": \"1.5px solid black\"})\n",
    "\n",
    "# Modify the color and background color of the table headers (th)\n",
    "styled_cdc_data.set_table_styles([\n",
    "    {\"selector\": \"th\", \"props\": [(\"color\", 'white'), (\"background-color\", \"#333333\")]}\n",
    "])"
   ]
  },
  {
   "cell_type": "code",
   "execution_count": 14,
   "metadata": {},
   "outputs": [
    {
     "name": "stdout",
     "output_type": "stream",
     "text": [
      "<class 'pandas.core.frame.DataFrame'>\n",
      "RangeIndex: 253680 entries, 0 to 253679\n",
      "Data columns (total 22 columns):\n",
      " #   Column                Non-Null Count   Dtype  \n",
      "---  ------                --------------   -----  \n",
      " 0   Diabetes_binary       253680 non-null  float64\n",
      " 1   HighBP                253680 non-null  float64\n",
      " 2   HighChol              253680 non-null  float64\n",
      " 3   CholCheck             253680 non-null  float64\n",
      " 4   BMI                   253680 non-null  float64\n",
      " 5   Smoker                253680 non-null  float64\n",
      " 6   Stroke                253680 non-null  float64\n",
      " 7   HeartDiseaseorAttack  253680 non-null  float64\n",
      " 8   PhysActivity          253680 non-null  float64\n",
      " 9   Fruits                253680 non-null  float64\n",
      " 10  Veggies               253680 non-null  float64\n",
      " 11  HvyAlcoholConsump     253680 non-null  float64\n",
      " 12  AnyHealthcare         253680 non-null  float64\n",
      " 13  NoDocbcCost           253680 non-null  float64\n",
      " 14  GenHlth               253680 non-null  float64\n",
      " 15  MentHlth              253680 non-null  float64\n",
      " 16  PhysHlth              253680 non-null  float64\n",
      " 17  DiffWalk              253680 non-null  float64\n",
      " 18  Sex                   253680 non-null  float64\n",
      " 19  Age                   253680 non-null  float64\n",
      " 20  Education             253680 non-null  float64\n",
      " 21  Income                253680 non-null  float64\n",
      "dtypes: float64(22)\n",
      "memory usage: 42.6 MB\n"
     ]
    }
   ],
   "source": [
    "cdc_data.info(verbose=1)"
   ]
  },
  {
   "cell_type": "markdown",
   "metadata": {},
   "source": [
    "### Count Null/NaN Values\n"
   ]
  },
  {
   "cell_type": "code",
   "execution_count": 15,
   "metadata": {},
   "outputs": [
    {
     "data": {
      "text/plain": [
       "Diabetes_binary         0\n",
       "HighBP                  0\n",
       "HighChol                0\n",
       "CholCheck               0\n",
       "BMI                     0\n",
       "Smoker                  0\n",
       "Stroke                  0\n",
       "HeartDiseaseorAttack    0\n",
       "PhysActivity            0\n",
       "Fruits                  0\n",
       "Veggies                 0\n",
       "HvyAlcoholConsump       0\n",
       "AnyHealthcare           0\n",
       "NoDocbcCost             0\n",
       "GenHlth                 0\n",
       "MentHlth                0\n",
       "PhysHlth                0\n",
       "DiffWalk                0\n",
       "Sex                     0\n",
       "Age                     0\n",
       "Education               0\n",
       "Income                  0\n",
       "dtype: int64"
      ]
     },
     "execution_count": 15,
     "metadata": {},
     "output_type": "execute_result"
    }
   ],
   "source": [
    "cdc_data.isnull().sum()"
   ]
  },
  {
   "cell_type": "markdown",
   "metadata": {},
   "source": [
    "### No Missing or Null Values"
   ]
  },
  {
   "cell_type": "markdown",
   "metadata": {},
   "source": [
    "<a id=\"\"></a>\n",
    "# <div style=\"padding:20px;color:white;margin:0;color:darkcyan;font-size:15px;font-family:Georgia;text-align:left;display:fill;border-radius:5px;background-color:#E0FFFF;overflow:hidden\">CDC Data PreProcessing : No missing null values, no futher data processing is required</div>"
   ]
  },
  {
   "cell_type": "markdown",
   "metadata": {},
   "source": [
    "<a id=\"4.2\"></a>\n",
    "# <div style=\"padding:20px;color:white;margin:0;color:darkcyan;font-size:20px;font-family:Georgia;text-align:left;display:fill;border-radius:5px;background-color:#E0FFFF;overflow:hidden\">4.2 | PIMA Data PreProcessing</div>"
   ]
  },
  {
   "cell_type": "markdown",
   "metadata": {},
   "source": [
    "### Display Content"
   ]
  },
  {
   "cell_type": "code",
   "execution_count": 16,
   "metadata": {},
   "outputs": [
    {
     "data": {
      "text/html": [
       "<style type=\"text/css\">\n",
       "#T_8ad6a th {\n",
       "  color: white;\n",
       "  background-color: #333333;\n",
       "}\n",
       "#T_8ad6a_row0_col0, #T_8ad6a_row0_col1, #T_8ad6a_row0_col2, #T_8ad6a_row0_col3, #T_8ad6a_row0_col4, #T_8ad6a_row0_col5, #T_8ad6a_row0_col6, #T_8ad6a_row0_col7, #T_8ad6a_row0_col8, #T_8ad6a_row1_col0, #T_8ad6a_row1_col1, #T_8ad6a_row1_col2, #T_8ad6a_row1_col3, #T_8ad6a_row1_col4, #T_8ad6a_row1_col5, #T_8ad6a_row1_col6, #T_8ad6a_row1_col7, #T_8ad6a_row1_col8, #T_8ad6a_row2_col0, #T_8ad6a_row2_col1, #T_8ad6a_row2_col2, #T_8ad6a_row2_col3, #T_8ad6a_row2_col4, #T_8ad6a_row2_col5, #T_8ad6a_row2_col6, #T_8ad6a_row2_col7, #T_8ad6a_row2_col8, #T_8ad6a_row3_col0, #T_8ad6a_row3_col1, #T_8ad6a_row3_col2, #T_8ad6a_row3_col3, #T_8ad6a_row3_col4, #T_8ad6a_row3_col5, #T_8ad6a_row3_col6, #T_8ad6a_row3_col7, #T_8ad6a_row3_col8, #T_8ad6a_row4_col0, #T_8ad6a_row4_col1, #T_8ad6a_row4_col2, #T_8ad6a_row4_col3, #T_8ad6a_row4_col4, #T_8ad6a_row4_col5, #T_8ad6a_row4_col6, #T_8ad6a_row4_col7, #T_8ad6a_row4_col8 {\n",
       "  background-color: #254E58;\n",
       "  color: #e9c46a;\n",
       "  border: 1.5px solid black;\n",
       "}\n",
       "</style>\n",
       "<table id=\"T_8ad6a\">\n",
       "  <thead>\n",
       "    <tr>\n",
       "      <th class=\"blank level0\" >&nbsp;</th>\n",
       "      <th id=\"T_8ad6a_level0_col0\" class=\"col_heading level0 col0\" >Pregnancies</th>\n",
       "      <th id=\"T_8ad6a_level0_col1\" class=\"col_heading level0 col1\" >Glucose</th>\n",
       "      <th id=\"T_8ad6a_level0_col2\" class=\"col_heading level0 col2\" >BloodPressure</th>\n",
       "      <th id=\"T_8ad6a_level0_col3\" class=\"col_heading level0 col3\" >SkinThickness</th>\n",
       "      <th id=\"T_8ad6a_level0_col4\" class=\"col_heading level0 col4\" >Insulin</th>\n",
       "      <th id=\"T_8ad6a_level0_col5\" class=\"col_heading level0 col5\" >BMI</th>\n",
       "      <th id=\"T_8ad6a_level0_col6\" class=\"col_heading level0 col6\" >DiabetesPedigreeFunction</th>\n",
       "      <th id=\"T_8ad6a_level0_col7\" class=\"col_heading level0 col7\" >Age</th>\n",
       "      <th id=\"T_8ad6a_level0_col8\" class=\"col_heading level0 col8\" >Outcome</th>\n",
       "    </tr>\n",
       "  </thead>\n",
       "  <tbody>\n",
       "    <tr>\n",
       "      <th id=\"T_8ad6a_level0_row0\" class=\"row_heading level0 row0\" >0</th>\n",
       "      <td id=\"T_8ad6a_row0_col0\" class=\"data row0 col0\" >6</td>\n",
       "      <td id=\"T_8ad6a_row0_col1\" class=\"data row0 col1\" >148</td>\n",
       "      <td id=\"T_8ad6a_row0_col2\" class=\"data row0 col2\" >72</td>\n",
       "      <td id=\"T_8ad6a_row0_col3\" class=\"data row0 col3\" >35</td>\n",
       "      <td id=\"T_8ad6a_row0_col4\" class=\"data row0 col4\" >0</td>\n",
       "      <td id=\"T_8ad6a_row0_col5\" class=\"data row0 col5\" >33.600000</td>\n",
       "      <td id=\"T_8ad6a_row0_col6\" class=\"data row0 col6\" >0.627000</td>\n",
       "      <td id=\"T_8ad6a_row0_col7\" class=\"data row0 col7\" >50</td>\n",
       "      <td id=\"T_8ad6a_row0_col8\" class=\"data row0 col8\" >1</td>\n",
       "    </tr>\n",
       "    <tr>\n",
       "      <th id=\"T_8ad6a_level0_row1\" class=\"row_heading level0 row1\" >1</th>\n",
       "      <td id=\"T_8ad6a_row1_col0\" class=\"data row1 col0\" >1</td>\n",
       "      <td id=\"T_8ad6a_row1_col1\" class=\"data row1 col1\" >85</td>\n",
       "      <td id=\"T_8ad6a_row1_col2\" class=\"data row1 col2\" >66</td>\n",
       "      <td id=\"T_8ad6a_row1_col3\" class=\"data row1 col3\" >29</td>\n",
       "      <td id=\"T_8ad6a_row1_col4\" class=\"data row1 col4\" >0</td>\n",
       "      <td id=\"T_8ad6a_row1_col5\" class=\"data row1 col5\" >26.600000</td>\n",
       "      <td id=\"T_8ad6a_row1_col6\" class=\"data row1 col6\" >0.351000</td>\n",
       "      <td id=\"T_8ad6a_row1_col7\" class=\"data row1 col7\" >31</td>\n",
       "      <td id=\"T_8ad6a_row1_col8\" class=\"data row1 col8\" >0</td>\n",
       "    </tr>\n",
       "    <tr>\n",
       "      <th id=\"T_8ad6a_level0_row2\" class=\"row_heading level0 row2\" >2</th>\n",
       "      <td id=\"T_8ad6a_row2_col0\" class=\"data row2 col0\" >8</td>\n",
       "      <td id=\"T_8ad6a_row2_col1\" class=\"data row2 col1\" >183</td>\n",
       "      <td id=\"T_8ad6a_row2_col2\" class=\"data row2 col2\" >64</td>\n",
       "      <td id=\"T_8ad6a_row2_col3\" class=\"data row2 col3\" >0</td>\n",
       "      <td id=\"T_8ad6a_row2_col4\" class=\"data row2 col4\" >0</td>\n",
       "      <td id=\"T_8ad6a_row2_col5\" class=\"data row2 col5\" >23.300000</td>\n",
       "      <td id=\"T_8ad6a_row2_col6\" class=\"data row2 col6\" >0.672000</td>\n",
       "      <td id=\"T_8ad6a_row2_col7\" class=\"data row2 col7\" >32</td>\n",
       "      <td id=\"T_8ad6a_row2_col8\" class=\"data row2 col8\" >1</td>\n",
       "    </tr>\n",
       "    <tr>\n",
       "      <th id=\"T_8ad6a_level0_row3\" class=\"row_heading level0 row3\" >3</th>\n",
       "      <td id=\"T_8ad6a_row3_col0\" class=\"data row3 col0\" >1</td>\n",
       "      <td id=\"T_8ad6a_row3_col1\" class=\"data row3 col1\" >89</td>\n",
       "      <td id=\"T_8ad6a_row3_col2\" class=\"data row3 col2\" >66</td>\n",
       "      <td id=\"T_8ad6a_row3_col3\" class=\"data row3 col3\" >23</td>\n",
       "      <td id=\"T_8ad6a_row3_col4\" class=\"data row3 col4\" >94</td>\n",
       "      <td id=\"T_8ad6a_row3_col5\" class=\"data row3 col5\" >28.100000</td>\n",
       "      <td id=\"T_8ad6a_row3_col6\" class=\"data row3 col6\" >0.167000</td>\n",
       "      <td id=\"T_8ad6a_row3_col7\" class=\"data row3 col7\" >21</td>\n",
       "      <td id=\"T_8ad6a_row3_col8\" class=\"data row3 col8\" >0</td>\n",
       "    </tr>\n",
       "    <tr>\n",
       "      <th id=\"T_8ad6a_level0_row4\" class=\"row_heading level0 row4\" >4</th>\n",
       "      <td id=\"T_8ad6a_row4_col0\" class=\"data row4 col0\" >0</td>\n",
       "      <td id=\"T_8ad6a_row4_col1\" class=\"data row4 col1\" >137</td>\n",
       "      <td id=\"T_8ad6a_row4_col2\" class=\"data row4 col2\" >40</td>\n",
       "      <td id=\"T_8ad6a_row4_col3\" class=\"data row4 col3\" >35</td>\n",
       "      <td id=\"T_8ad6a_row4_col4\" class=\"data row4 col4\" >168</td>\n",
       "      <td id=\"T_8ad6a_row4_col5\" class=\"data row4 col5\" >43.100000</td>\n",
       "      <td id=\"T_8ad6a_row4_col6\" class=\"data row4 col6\" >2.288000</td>\n",
       "      <td id=\"T_8ad6a_row4_col7\" class=\"data row4 col7\" >33</td>\n",
       "      <td id=\"T_8ad6a_row4_col8\" class=\"data row4 col8\" >1</td>\n",
       "    </tr>\n",
       "  </tbody>\n",
       "</table>\n"
      ],
      "text/plain": [
       "<pandas.io.formats.style.Styler at 0x176459790>"
      ]
     },
     "execution_count": 16,
     "metadata": {},
     "output_type": "execute_result"
    }
   ],
   "source": [
    "styled_pims_data = pima_data.head(5).style\n",
    "\n",
    "# Set background color, text color, and border for the entire DataFrame\n",
    "styled_pims_data.set_properties(**{\"background-color\": \"#254E58\", \"color\": \"#e9c46a\", \"border\": \"1.5px solid black\"})\n",
    "\n",
    "# Modify the color and background color of the table headers (th)\n",
    "styled_pims_data.set_table_styles([\n",
    "    {\"selector\": \"th\", \"props\": [(\"color\", 'white'), (\"background-color\", \"#333333\")]}\n",
    "])"
   ]
  },
  {
   "cell_type": "code",
   "execution_count": 17,
   "metadata": {},
   "outputs": [
    {
     "name": "stdout",
     "output_type": "stream",
     "text": [
      "<class 'pandas.core.frame.DataFrame'>\n",
      "RangeIndex: 768 entries, 0 to 767\n",
      "Data columns (total 9 columns):\n",
      " #   Column                    Non-Null Count  Dtype  \n",
      "---  ------                    --------------  -----  \n",
      " 0   Pregnancies               768 non-null    int64  \n",
      " 1   Glucose                   768 non-null    int64  \n",
      " 2   BloodPressure             768 non-null    int64  \n",
      " 3   SkinThickness             768 non-null    int64  \n",
      " 4   Insulin                   768 non-null    int64  \n",
      " 5   BMI                       768 non-null    float64\n",
      " 6   DiabetesPedigreeFunction  768 non-null    float64\n",
      " 7   Age                       768 non-null    int64  \n",
      " 8   Outcome                   768 non-null    int64  \n",
      "dtypes: float64(2), int64(7)\n",
      "memory usage: 54.1 KB\n"
     ]
    }
   ],
   "source": [
    "pima_data.info(verbose=1)"
   ]
  },
  {
   "cell_type": "markdown",
   "metadata": {},
   "source": [
    "### Count Null/NaN Values"
   ]
  },
  {
   "cell_type": "code",
   "execution_count": 18,
   "metadata": {},
   "outputs": [
    {
     "data": {
      "text/plain": [
       "Pregnancies                 0\n",
       "Glucose                     0\n",
       "BloodPressure               0\n",
       "SkinThickness               0\n",
       "Insulin                     0\n",
       "BMI                         0\n",
       "DiabetesPedigreeFunction    0\n",
       "Age                         0\n",
       "Outcome                     0\n",
       "dtype: int64"
      ]
     },
     "execution_count": 18,
     "metadata": {},
     "output_type": "execute_result"
    }
   ],
   "source": [
    "pima_data.isnull().sum()"
   ]
  },
  {
   "cell_type": "markdown",
   "metadata": {},
   "source": [
    "### No Null or Nan  Values\n"
   ]
  },
  {
   "cell_type": "markdown",
   "metadata": {},
   "source": [
    "<a id=\"\"></a>\n",
    "# <div style=\"padding:20px;color:white;margin:0;color:darkcyan;font-size:15px;font-family:Georgia;text-align:left;display:fill;border-radius:5px;background-color:#E0FFFF;overflow:hidden\">PIMA Data PreProcessing : No missing null values, no futher data processing is required</div>"
   ]
  }
 ],
 "metadata": {
  "kernelspec": {
   "display_name": "Python 3",
   "language": "python",
   "name": "python3"
  },
  "language_info": {
   "codemirror_mode": {
    "name": "ipython",
    "version": 3
   },
   "file_extension": ".py",
   "mimetype": "text/x-python",
   "name": "python",
   "nbconvert_exporter": "python",
   "pygments_lexer": "ipython3",
   "version": "3.9.6"
  }
 },
 "nbformat": 4,
 "nbformat_minor": 2
}
