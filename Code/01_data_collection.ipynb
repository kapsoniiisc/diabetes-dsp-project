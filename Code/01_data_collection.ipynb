{
 "cells": [
  {
   "cell_type": "markdown",
   "metadata": {
    "id": "N7fzfRQsV74E"
   },
   "source": [
    "<a id=\"\"></a>\n",
    "# <div style=\"padding:20px;color:white;margin:0;font-size:30px;color:darkgreen;font-family:Georgia;text-align:left;display:fill;border-radius:5px;background-color:#f2ffe6;overflow:hidden\">Data Sources</div>\n",
    "\n",
    "1. CDC Diabetes Health Indicators Dataset\n",
    "\n",
    "\tSource: UCI Machine Learning Repository\n",
    "\n",
    "\tURL: CDC Diabetes Health Indicators : https://archive.ics.uci.edu/dataset/891/cdc+diabetes+health+indicators\n",
    "\n",
    "\tCollection Method:\n",
    "\tThis dataset is derived from the Behavioral Risk Factor Surveillance System \t(BRFSS) survey conducted by the Centers for Disease Control and Prevention \t(CDC). The data were collected via telephone surveys.\n",
    "\n",
    "\n",
    "\n",
    "2. Pima Indians Diabetes Database\n",
    "\n",
    "\tSource: Kaggle\n",
    "\n",
    "\tURL: Pima Indians Diabetes Database : https://www.kaggle.com/datasets/uciml/pima-indians-diabetes-database\n",
    "\n",
    "\tCollection Method: This dataset was collected by the National Institute of \tDiabetes and Digestive and Kidney Diseases and involves female patients of \tPima Indian heritage.\n",
    "\n",
    "\n",
    "\n",
    "  ### Description of the data (features, size, format)  \n",
    "\n",
    "\n",
    "  The Diabetes Health Indicators Dataset contains healthcare statistics and lifestyle survey information about people in general and their diabetes diagnoses.\n",
    "\n",
    "Features – 21\n",
    "\n",
    "Instances – 253680\n",
    "\n",
    "Format - CSV\n",
    "\n",
    "Pima Indians Diabetes Database\n",
    "\n",
    "Features - 8\n",
    "\n",
    "Instances - 768\n",
    "\n",
    "Format - CSC\n",
    "\n",
    "---"
   ]
  },
  {
   "cell_type": "markdown",
   "metadata": {
    "id": "W6FI4NxpNJU6"
   },
   "source": [
    "<a id=\"1\"></a>\n",
    "# <div style=\"padding:20px;color:white;margin:0;color:darkgreen;font-size:30px;font-family:Georgia;text-align:left;display:fill;border-radius:5px;background-color:#f2ffe6;overflow:hidden\">1. | Importing Libraries</div>"
   ]
  },
  {
   "cell_type": "code",
   "execution_count": 2,
   "metadata": {
    "id": "M0O1dNW_NO7w"
   },
   "outputs": [
    {
     "name": "stderr",
     "output_type": "stream",
     "text": [
      "Matplotlib is building the font cache; this may take a moment.\n",
      "/Users/maljayac/Library/Python/3.9/lib/python/site-packages/tqdm/auto.py:21: TqdmWarning: IProgress not found. Please update jupyter and ipywidgets. See https://ipywidgets.readthedocs.io/en/stable/user_install.html\n",
      "  from .autonotebook import tqdm as notebook_tqdm\n",
      "/Users/maljayac/Library/Python/3.9/lib/python/site-packages/urllib3/__init__.py:35: NotOpenSSLWarning: urllib3 v2 only supports OpenSSL 1.1.1+, currently the 'ssl' module is compiled with 'LibreSSL 2.8.3'. See: https://github.com/urllib3/urllib3/issues/3020\n",
      "  warnings.warn(\n"
     ]
    }
   ],
   "source": [
    "##Import required libraries\n",
    "\n",
    "import pandas as pd\n",
    "import numpy as np\n",
    "import matplotlib.pyplot as plt\n",
    "\n",
    "from sklearn import tree\n",
    "from sklearn.tree import DecisionTreeClassifier\n",
    "import os\n",
    "import seaborn as sns\n",
    "\n",
    "from ydata_profiling import ProfileReport\n",
    "\n"
   ]
  },
  {
   "cell_type": "markdown",
   "metadata": {
    "id": "iun00ZBkO6Zt"
   },
   "source": [
    "<a id=\"2\"></a>\n",
    "# <div style=\"padding:20px;color:white;margin:0;color:darkgreen;font-size:30px;font-family:Georgia;text-align:left;display:fill;border-radius:5px;background-color:#f2ffe6;overflow:hidden\">2. | Load Datasets</div>"
   ]
  },
  {
   "cell_type": "code",
   "execution_count": 3,
   "metadata": {
    "id": "oIJ-itf8PFKQ"
   },
   "outputs": [],
   "source": [
    "cdc_url = 'https://raw.githubusercontent.com/kapsoniiisc/diabetes-dsp-project/refs/heads/main/Dataset/diabetes_binary_health_indicators_BRFSS2015.csv'\n",
    "\n",
    "pima_url = 'https://raw.githubusercontent.com/kapsoniiisc/diabetes-dsp-project/refs/heads/main/Dataset/diabetes.csv'\n",
    "\n",
    "\n",
    "cdc_data = pd.read_csv(cdc_url)\n",
    "\n",
    "pima_data = pd.read_csv(pima_url)"
   ]
  },
  {
   "cell_type": "markdown",
   "metadata": {
    "id": "0-8u_2N-VRHi"
   },
   "source": [
    "<a id=\"3\"></a>\n",
    "# <div style=\"padding:20px;color:white;margin:0;color:darkgreen;font-size:30px;font-family:Georgia;text-align:left;display:fill;border-radius:5px;background-color:#f2ffe6;overflow:hidden\">3. | Data Details</div>"
   ]
  },
  {
   "cell_type": "code",
   "execution_count": 4,
   "metadata": {
    "colab": {
     "base_uri": "https://localhost:8080/"
    },
    "id": "g9Z92AIsVl2n",
    "outputId": "b0c050e3-c220-4d10-b88c-1b44b98cad1b"
   },
   "outputs": [
    {
     "name": "stdout",
     "output_type": "stream",
     "text": [
      " CDC Data:\n",
      "\t Rows :  22\n",
      "\t Columns :  253680\n",
      "\n",
      "\n",
      " PIMA Data:\n",
      "\t Rows :  9\n",
      "\t Columns :  768\n"
     ]
    }
   ],
   "source": [
    "print(\" CDC Data:\")\n",
    "print(\"\\t Rows : \", cdc_data.shape[1])\n",
    "print(\"\\t Columns : \", cdc_data.shape[0])\n",
    "print(\"\\n\")\n",
    "print(\" PIMA Data:\")\n",
    "print(\"\\t Rows : \", pima_data.shape[1])\n",
    "print(\"\\t Columns : \", pima_data.shape[0])"
   ]
  },
  {
   "cell_type": "markdown",
   "metadata": {
    "id": "WDJDnzqebWf5"
   },
   "source": [
    "<a id=\"3.1\"></a>\n",
    "# <div style=\"padding:20px;color:white;margin:0;color:darkgreen;font-size:20px;font-family:Georgia;text-align:left;display:fill;border-radius:5px;background-color:#f2ffe6;overflow:hidden\">3.1 | CDC Data Details</div>"
   ]
  },
  {
   "cell_type": "markdown",
   "metadata": {
    "id": "V4EYtofEXbGU"
   },
   "source": [
    "| Variable Name   | Role    | Type    | Description                                 | Missing Values |\n",
    "|-----------------|---------|---------|---------------------------------------------|----------------|\n",
    "| ID              | ID      | Integer | Patient ID                                  | no             |\n",
    "| Diabetes_binary | Target  | Binary  | 0 = no diabetes 1 = prediabetes or diabetes | no             |\n",
    "| HighBP          | Feature | Binary  | 0 = no high BP 1 = high BP                  | no             |\n",
    "| HighChol        | Feature | Binary  | 0 = no high cholesterol 1 = high cholesterol| no             |\n",
    "| CholCheck       | Feature | Binary  | 0 = no cholesterol check in 5 years 1 = yes cholesterol check in 5 years | no |\n",
    "| BMI | Feature | Integer | Body Mass Index | no |\n",
    "| Smoker | Feature | Binary | Have you smoked at least 100 cigarettes in your entire life? [Note: 5 packs = 100 cigarettes] 0 = no 1 = yes | no |\n",
    "| Stroke | Feature | Binary | (Ever told) you had a stroke. 0 = no 1 = yes | no |\n",
    "| HeartDiseaseorAttack | Feature | Binary | coronary heart disease (CHD) or myocardial infarction (MI) 0 = no 1 = yes | no |\n",
    "| PhysActivity | Feature | Binary | physical activity in past 30 days - not including job 0 = no 1 = yes | no |\n",
    "| AnyHealthcare |\tFeature | Binary  | Have any kind of health care coverage,including health insurance, prepaid plans such as HMO, etc 0 = no 1 = yes | no  |\n",
    "| NoDocbcCost | Feature | Binary  | Was there a time in the past 12 months when you needed to see a doctor but could not because of cost? 0 = no 1 = yes  | no  |\n",
    "| GenHlth | Feature | Integer | Would you say that in general your health is: scale 1-5 1 = excellent 2 = very good 3 = good 4 = fair 5 = poor  | no  |\n",
    "| MentHlth  | Feature | Integer | Now thinking about your mental health, which includes stress, depression, and problems with emotions, for how many days during the past 30 days was your mental health not good? scale 1-30 days | no |\n",
    "| PhysHlth | Feature | Integer | Now thinking about your physical health, which includes physical illness and injury, for how many days during the past 30 days was your physical health not good? scale 1-30 days | no |\n",
    "| DiffWalk | Feature | Binary | Do you have serious difficulty walking or climbing stairs? 0 = no 1 = yes | no |\n",
    "| Sex | Feature | Binary | Sex\t0 = female 1 = male | no |\n",
    "| Fruits | Feature | Binary | Consume Fruit 1 or more times per day 0 = no 1 = yes | no |\n",
    "| Veggies | Feature | Binary | Consume Vegetables 1 or more times per day 0 = no 1 = yes | no |\n",
    "| HvyAlcoholConsump | Feature | Binary | Heavy drinkers (adult men having more than 14 drinks per week and adult women having more than 7 drinks per week) 0 = no 1 = yes | no |\n",
    "| Age | Feature | Integer | Age\t13-level age category (_AGEG5YR see codebook) 1 = 18-24 9 = 60-64 13 = 80 or older | no |\n",
    "| Education | Feature | Integer | Education Level\tEducation level (EDUCA see codebook) scale 1-6 1 = Never attended school or only kindergarten 2 = Grades 1 through 8 (Elementary) 3 = Grades 9 through 11 (Some high school) 4 = Grade 12 or GED (High school graduate) 5 = College 1 year to 3 years (Some college or technical school) 6 = College 4 years or more (College graduate)\t | no |\n",
    "| Income | Feature | Integer | Income scale (INCOME2 see codebook) scale 1-8 1 = less than $10,000 5 = less than $35,000 8 = $75,000 or more | no |"
   ]
  },
  {
   "cell_type": "markdown",
   "metadata": {
    "id": "Ly07oVv5bjSW"
   },
   "source": [
    "<a id=\"3.2\"></a>\n",
    "# <div style=\"padding:20px;color:white;margin:0;color:darkgreen;font-size:20px;font-family:Georgia;text-align:left;display:fill;border-radius:5px;background-color:#f2ffe6;overflow:hidden\">3.2 | PIMA Data Details</div>"
   ]
  },
  {
   "cell_type": "markdown",
   "metadata": {
    "id": "_edeEgghbmZC"
   },
   "source": [
    "<table style=\"width: 100%; border-collapse: collapse;\">\n",
    "  <thead>\n",
    "    <tr>\n",
    "      <th style=\"min-width: 10px; width: 30px; background-color: #333333; color: white; font-weight: bold; text-align: left; padding: 8px;\">No</th>\n",
    "      <th style=\"background-color: #333333; color: white; font-weight: bold; text-align: left; padding: 8px;\">Column Name</th>\n",
    "      <th style=\"background-color: #333333; color: white; font-weight: bold; text-align: left; padding: 8px;\">Meaning</th>\n",
    "    </tr>\n",
    "  </thead>\n",
    "  <tbody>\n",
    "    <tr>\n",
    "      <td style=\"font-weight: bold; font-size: 14px; color: #254441; text-align: left;\">1</td>\n",
    "      <td style=\"font-weight: bold; font-size: 14px; color: #254441; text-align: left;\">Pregnancies</td>\n",
    "      <td style=\"font-size: 14px; text-align: left;\">Number of pregnancies</td>\n",
    "    </tr>\n",
    "    <tr>\n",
    "      <td style=\"font-weight: bold; font-size: 14px; color: #3850A0; text-align: left;\">2</td>\n",
    "      <td style=\"font-weight: bold; font-size: 14px; color: #3850A0; text-align: left;\">Glucose</td>\n",
    "      <td style=\"font-size: 14px; text-align: left;\">Glucose level in blood</td>\n",
    "    </tr>\n",
    "    <tr>\n",
    "      <td style=\"font-weight: bold; font-size: 14px; color: #8C001A; text-align: left;\">3</td>\n",
    "      <td style=\"font-weight: bold; font-size: 14px; color: #8C001A; text-align: left;\">BloodPressure</td>\n",
    "      <td style=\"font-size: 14px; text-align: left;\">Blood pressure measurement</td>\n",
    "    </tr>\n",
    "    <tr>\n",
    "      <td style=\"font-weight: bold; font-size: 14px; color: #FFAA33; text-align: left;\">4</td>\n",
    "      <td style=\"font-weight: bold; font-size: 14px; color: #FFAA33; text-align: left;\">SkinThickness</td>\n",
    "      <td style=\"font-size: 14px; text-align: left;\">Thickness of the skin</td>\n",
    "    </tr>\n",
    "    <tr>\n",
    "      <td style=\"font-weight: bold; font-size: 14px; color: #FF0077; text-align: left;\">5</td>\n",
    "      <td style=\"font-weight: bold; font-size: 14px; color: #FF0077; text-align: left;\">Insulin</td>\n",
    "      <td style=\"font-size: 14px; text-align: left;\">Insulin level in blood</td>\n",
    "    </tr>\n",
    "    <tr>\n",
    "      <td style=\"font-weight: bold; font-size: 14px; color: #009A80; text-align: left;\">6</td>\n",
    "      <td style=\"font-weight: bold; font-size: 14px; color: #009A80; text-align: left;\">BMI</td>\n",
    "      <td style=\"font-size: 14px; text-align: left;\">Body mass index</td>\n",
    "    </tr>\n",
    "    <tr>\n",
    "      <td style=\"font-weight: bold; font-size: 14px; color: #660099; text-align: left;\">7</td>\n",
    "      <td style=\"font-weight: bold; font-size: 14px; color: #660099; text-align: left;\">DiabetesPedigreeFunction</td>\n",
    "      <td style=\"font-size: 14px; text-align: left;\">Diabetes percentage</td>\n",
    "    </tr>\n",
    "    <tr>\n",
    "      <td style=\"font-weight: bold; font-size: 14px; color: #4B0082; text-align: left;\">8</td>\n",
    "      <td style=\"font-weight: bold; font-size: 14px; color: #4B0082; text-align: left;\">Age</td>\n",
    "      <td style=\"font-size: 14px; text-align: left;\">Age</td>\n",
    "    </tr>\n",
    "    <tr>\n",
    "      <td style=\"font-weight: bold; font-size: 14px; color: #0000FF; text-align: left;\">9</td>\n",
    "      <td style=\"font-weight: bold; font-size: 14px; color: #0000FF; text-align: left;\">Outcome</td>\n",
    "      <td style=\"font-size: 14px; text-align: left;\">Final result (<font color=\"#008000\">1</font>: Yes, the individual has diabetes; <font color=\"#FF0000\">0</font>: No, the individual does not have diabetes)</td>\n",
    "    </tr>\n",
    "  </tbody>\n",
    "</table>\n"
   ]
  }
 ],
 "metadata": {
  "colab": {
   "provenance": []
  },
  "kernelspec": {
   "display_name": "Python 3",
   "name": "python3"
  },
  "language_info": {
   "codemirror_mode": {
    "name": "ipython",
    "version": 3
   },
   "file_extension": ".py",
   "mimetype": "text/x-python",
   "name": "python",
   "nbconvert_exporter": "python",
   "pygments_lexer": "ipython3",
   "version": "3.9.6"
  }
 },
 "nbformat": 4,
 "nbformat_minor": 0
}
