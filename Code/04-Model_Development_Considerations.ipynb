{
 "cells": [
  {
   "cell_type": "code",
   "execution_count": null,
   "metadata": {},
   "outputs": [],
   "source": [
    "import import_ipynb\n",
    "%run 03-EDA.ipynb\n"
   ]
  },
  {
   "cell_type": "markdown",
   "metadata": {},
   "source": [
    "<a id=\"4\"></a>\n",
    "# <div style=\"padding:20px;color:white;margin:0;color:darkgreen;font-size:30px;font-family:Georgia;text-align:left;display:fill;border-radius:5px;background-color:#f2ffe6;overflow:hidden\">4. | Model Development Considerations</div>"
   ]
  },
  {
   "cell_type": "markdown",
   "metadata": {},
   "source": [
    "<a id=\"4.1\"></a>\n",
    "# <div style=\"padding:20px;color:white;margin:0;color:darkcyan;font-size:20px;font-family:Georgia;text-align:left;display:fill;border-radius:5px;background-color:#E0FFFF;overflow:hidden\">4.1 | Model Development: CDC Data </div>"
   ]
  },
  {
   "cell_type": "markdown",
   "metadata": {},
   "source": [
    "### Model as a Classification Problem"
   ]
  },
  {
   "cell_type": "markdown",
   "metadata": {},
   "source": [
    "The target variable, Diabetes_binary, is a binary variable. \n",
    "\n",
    "It contains two distinct classes: one indicating the presence of diabetes and the other indicating its absence. \n",
    "\n",
    "Specifically, it likely represents a value of 1 for individuals who have diabetes or prediabetes and 0 for those who do not.\n",
    "\n",
    "Since the target variable is categorical (binary), the task is to categorize or classify each instance into one of these two classes based on the input features.\n",
    "\n",
    "Classification models are designed to handle such tasks where the outcome to be predicted is a category or class."
   ]
  },
  {
   "cell_type": "markdown",
   "metadata": {},
   "source": [
    "### Features Considered"
   ]
  },
  {
   "cell_type": "markdown",
   "metadata": {},
   "source": [
    "This dataset contains 21 features.\n",
    "\n",
    "Out of the 21 features, following features are selected for model training after the EDA,\n",
    "\n",
    "as they seems to have the most impact on the output we want to predict.\n",
    "\n",
    "\n",
    "| Variable Name   | Role    | Type    | Description                                 | Missing Values |\n",
    "|-----------------|---------|---------|---------------------------------------------|----------------|\n",
    "| HighBP          | Feature | Binary  | 0 = no high BP 1 = high BP                  | no             |\n",
    "| HighChol        | Feature | Binary  | 0 = no high cholesterol 1 = high cholesterol| no             |\n",
    "| BMI | Feature | Integer | Body Mass Index | no |\n",
    "| PhysActivity | Feature | Binary | physical activity in past 30 days - not including job 0 = no 1 = yes | no |\n",
    "| GenHlth | Feature | Integer | Would you say that in general your health is: scale 1-5 1 = excellent 2 = very good 3 = good 4 = fair 5 = poor  | no  |\n",
    "| MentHlth  | Feature | Integer | Now thinking about your mental health, which includes stress, depression, and problems with emotions, for how many days during the past 30 days was your mental health not good? scale 1-30 days | no |\n",
    "| PhysHlth | Feature | Integer | Now thinking about your physical health, which includes physical illness and injury, for how many days during the past 30 days was your physical health not good? scale 1-30 days | no |\n",
    "| DiffWalk | Feature | Binary | Do you have serious difficulty walking or climbing stairs? 0 = no 1 = yes | no |\n",
    "| Age | Feature | Integer | Age\t13-level age category (_AGEG5YR see codebook) 1 = 18-24 9 = 60-64 13 = 80 or older | no |\n",
    "| Education | Feature | Integer | Education Level\tEducation level (EDUCA see codebook) scale 1-6 1 = Never attended school or only kindergarten 2 = Grades 1 through 8 (Elementary) 3 = Grades 9 through 11 (Some high school) 4 = Grade 12 or GED (High school graduate) 5 = College 1 year to 3 years (Some college or technical school) 6 = College 4 years or more (College graduate)\t | no |\n",
    "| Income | Feature | Integer | Income scale (INCOME2 see codebook) scale 1-8 1 = less than $10,000 5 = less than $35,000 8 = $75,000 or more | no |"
   ]
  },
  {
   "cell_type": "markdown",
   "metadata": {},
   "source": [
    "### Classification Models Considered for Model Training\n",
    "\n",
    "1. Logistic Regression\n",
    "\n",
    "2. Decision Tree\n",
    "\n",
    "3. Gradient Boosting Machines (GBM)\n",
    "\n",
    "4. Random Forest\n",
    "\n",
    "5. K Nearest Neighbours (KNN)\n",
    "\n",
    "6. XGBoost\n",
    "\n",
    "These models are suitable for Binary classification problem as given in this case."
   ]
  }
 ],
 "metadata": {
  "kernelspec": {
   "display_name": "Python 3",
   "language": "python",
   "name": "python3"
  },
  "language_info": {
   "codemirror_mode": {
    "name": "ipython",
    "version": 3
   },
   "file_extension": ".py",
   "mimetype": "text/x-python",
   "name": "python",
   "nbconvert_exporter": "python",
   "pygments_lexer": "ipython3",
   "version": "3.9.6"
  }
 },
 "nbformat": 4,
 "nbformat_minor": 2
}
